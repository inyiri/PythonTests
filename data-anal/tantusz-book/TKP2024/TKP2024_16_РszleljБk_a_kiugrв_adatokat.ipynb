{
 "cells": [
  {
   "cell_type": "markdown",
   "id": "91eba9b1",
   "metadata": {
    "papermill": {
     "duration": 0.00853,
     "end_time": "2023-05-20T15:57:22.279464",
     "exception": false,
     "start_time": "2023-05-20T15:57:22.270934",
     "status": "completed"
    },
    "tags": []
   },
   "source": [
    "# Nézzük meg, hogy zajlik a kiugró értékek észlelése"
   ]
  },
  {
   "cell_type": "code",
   "execution_count": 1,
   "id": "75add8c3",
   "metadata": {
    "execution": {
     "iopub.execute_input": "2023-05-20T15:57:22.296351Z",
     "iopub.status.busy": "2023-05-20T15:57:22.295901Z",
     "iopub.status.idle": "2023-05-20T15:57:22.312899Z",
     "shell.execute_reply": "2023-05-20T15:57:22.311759Z"
    },
    "papermill": {
     "duration": 0.028832,
     "end_time": "2023-05-20T15:57:22.315766",
     "exception": false,
     "start_time": "2023-05-20T15:57:22.286934",
     "status": "completed"
    },
    "tags": []
   },
   "outputs": [
    {
     "name": "stdout",
     "output_type": "stream",
     "text": [
      "Átlag: 0.039 Medián: 0.041  Szórásnégyzet: 0.962\n"
     ]
    }
   ],
   "source": [
    "import numpy as np\n",
    "\n",
    "np.random.seed(1)\n",
    "normál = np.random.normal(loc=0.0, scale=1.0, size=1000)\n",
    "átlag = np.mean(normál)\n",
    "medián = np.median(normál)\n",
    "szórásnégyzet = np.var(normál)\n",
    "\n",
    "print(f\"Átlag: {átlag:.3f} Medián: {medián:.3f} \",\n",
    "      f\"Szórásnégyzet: {szórásnégyzet:.3f}\")"
   ]
  },
  {
   "cell_type": "code",
   "execution_count": 2,
   "id": "154b3878",
   "metadata": {
    "execution": {
     "iopub.execute_input": "2023-05-20T15:57:22.333217Z",
     "iopub.status.busy": "2023-05-20T15:57:22.332759Z",
     "iopub.status.idle": "2023-05-20T15:57:23.320712Z",
     "shell.execute_reply": "2023-05-20T15:57:23.319179Z"
    },
    "papermill": {
     "duration": 1.000609,
     "end_time": "2023-05-20T15:57:23.323922",
     "exception": false,
     "start_time": "2023-05-20T15:57:22.323313",
     "status": "completed"
    },
    "tags": []
   },
   "outputs": [
    {
     "name": "stdout",
     "output_type": "stream",
     "text": [
      "Átlag: 0.087 Medián: 0.041  Szórásnégyzet: 3.454\n",
      "Pearson-féle korreláció: 0.570  p-érték: 0.000\n"
     ]
    }
   ],
   "source": [
    "from scipy.stats import pearsonr\n",
    "\n",
    "kiugró = normál.copy()\n",
    "kiugró[0] = 50.0\n",
    "\n",
    "átlag = np.mean(kiugró)\n",
    "medián = np.median(kiugró)\n",
    "szórásnégyzet = np.var(kiugró)\n",
    "\n",
    "print(f\"Átlag: {átlag:.3f} Medián: {medián:.3f} \",\n",
    "      f\"Szórásnégyzet: {szórásnégyzet:.3f}\")\n",
    "\n",
    "korr_koef, p_érték = pearsonr(normál, kiugró)\n",
    "print(f\"Pearson-féle korreláció: {korr_koef:.3f} \",\n",
    "      f\"p-érték: {p_érték:.3f}\")"
   ]
  },
  {
   "cell_type": "markdown",
   "id": "4d295e6d",
   "metadata": {
    "papermill": {
     "duration": 0.007181,
     "end_time": "2023-05-20T15:57:23.338740",
     "exception": false,
     "start_time": "2023-05-20T15:57:23.331559",
     "status": "completed"
    },
    "tags": []
   },
   "source": [
    "# Vizsgáljunk meg egy egyszerű egyváltozós módszert"
   ]
  },
  {
   "cell_type": "code",
   "execution_count": 3,
   "id": "4fd0e518",
   "metadata": {
    "execution": {
     "iopub.execute_input": "2023-05-20T15:57:23.355913Z",
     "iopub.status.busy": "2023-05-20T15:57:23.355485Z",
     "iopub.status.idle": "2023-05-20T15:57:23.676957Z",
     "shell.execute_reply": "2023-05-20T15:57:23.675696Z"
    },
    "papermill": {
     "duration": 0.333852,
     "end_time": "2023-05-20T15:57:23.680089",
     "exception": false,
     "start_time": "2023-05-20T15:57:23.346237",
     "status": "completed"
    },
    "tags": []
   },
   "outputs": [],
   "source": [
    "import pandas as pd\n",
    "from sklearn.datasets import load_diabetes\n",
    "\n",
    "def cukorbetegség_adatok_betöltése():\n",
    "    cukor = load_diabetes()\n",
    "    X = pd.DataFrame(cukor.data,\n",
    "                     columns=cukor.feature_names)\n",
    "    y = pd.DataFrame(cukor.target, columns=['target'])\n",
    "    return X, y\n",
    "\n",
    "X, y = cukorbetegség_adatok_betöltése()"
   ]
  },
  {
   "cell_type": "markdown",
   "id": "35a2c154",
   "metadata": {
    "papermill": {
     "duration": 0.007105,
     "end_time": "2023-05-20T15:57:23.694709",
     "exception": false,
     "start_time": "2023-05-20T15:57:23.687604",
     "status": "completed"
    },
    "tags": []
   },
   "source": [
    "Samples total\t442<BR>\n",
    "Dimensionality\t10<BR>\n",
    "Features\treal, -.2 < x < .2<BR>\n",
    "Targets\tinteger 25 - 346<BR>"
   ]
  },
  {
   "cell_type": "code",
   "execution_count": 4,
   "id": "a55f9d94",
   "metadata": {
    "execution": {
     "iopub.execute_input": "2023-05-20T15:57:23.711634Z",
     "iopub.status.busy": "2023-05-20T15:57:23.711178Z",
     "iopub.status.idle": "2023-05-20T15:57:23.779601Z",
     "shell.execute_reply": "2023-05-20T15:57:23.778541Z"
    },
    "papermill": {
     "duration": 0.080439,
     "end_time": "2023-05-20T15:57:23.782511",
     "exception": false,
     "start_time": "2023-05-20T15:57:23.702072",
     "status": "completed"
    },
    "tags": []
   },
   "outputs": [
    {
     "data": {
      "text/html": [
       "<div>\n",
       "<style scoped>\n",
       "    .dataframe tbody tr th:only-of-type {\n",
       "        vertical-align: middle;\n",
       "    }\n",
       "\n",
       "    .dataframe tbody tr th {\n",
       "        vertical-align: top;\n",
       "    }\n",
       "\n",
       "    .dataframe thead th {\n",
       "        text-align: right;\n",
       "    }\n",
       "</style>\n",
       "<table border=\"1\" class=\"dataframe\">\n",
       "  <thead>\n",
       "    <tr style=\"text-align: right;\">\n",
       "      <th></th>\n",
       "      <th>age</th>\n",
       "      <th>sex</th>\n",
       "      <th>bmi</th>\n",
       "      <th>bp</th>\n",
       "      <th>s1</th>\n",
       "      <th>s2</th>\n",
       "      <th>s3</th>\n",
       "      <th>s4</th>\n",
       "      <th>s5</th>\n",
       "      <th>s6</th>\n",
       "    </tr>\n",
       "  </thead>\n",
       "  <tbody>\n",
       "    <tr>\n",
       "      <th>count</th>\n",
       "      <td>442.00</td>\n",
       "      <td>442.00</td>\n",
       "      <td>442.00</td>\n",
       "      <td>442.00</td>\n",
       "      <td>442.00</td>\n",
       "      <td>442.00</td>\n",
       "      <td>442.00</td>\n",
       "      <td>442.00</td>\n",
       "      <td>442.00</td>\n",
       "      <td>442.00</td>\n",
       "    </tr>\n",
       "    <tr>\n",
       "      <th>mean</th>\n",
       "      <td>-0.00</td>\n",
       "      <td>0.00</td>\n",
       "      <td>-0.00</td>\n",
       "      <td>-0.00</td>\n",
       "      <td>-0.00</td>\n",
       "      <td>0.00</td>\n",
       "      <td>-0.00</td>\n",
       "      <td>-0.00</td>\n",
       "      <td>0.00</td>\n",
       "      <td>0.00</td>\n",
       "    </tr>\n",
       "    <tr>\n",
       "      <th>std</th>\n",
       "      <td>0.05</td>\n",
       "      <td>0.05</td>\n",
       "      <td>0.05</td>\n",
       "      <td>0.05</td>\n",
       "      <td>0.05</td>\n",
       "      <td>0.05</td>\n",
       "      <td>0.05</td>\n",
       "      <td>0.05</td>\n",
       "      <td>0.05</td>\n",
       "      <td>0.05</td>\n",
       "    </tr>\n",
       "    <tr>\n",
       "      <th>min</th>\n",
       "      <td>-0.11</td>\n",
       "      <td>-0.04</td>\n",
       "      <td>-0.09</td>\n",
       "      <td>-0.11</td>\n",
       "      <td>-0.13</td>\n",
       "      <td>-0.12</td>\n",
       "      <td>-0.10</td>\n",
       "      <td>-0.08</td>\n",
       "      <td>-0.13</td>\n",
       "      <td>-0.14</td>\n",
       "    </tr>\n",
       "    <tr>\n",
       "      <th>25%</th>\n",
       "      <td>-0.04</td>\n",
       "      <td>-0.04</td>\n",
       "      <td>-0.03</td>\n",
       "      <td>-0.04</td>\n",
       "      <td>-0.03</td>\n",
       "      <td>-0.03</td>\n",
       "      <td>-0.04</td>\n",
       "      <td>-0.04</td>\n",
       "      <td>-0.03</td>\n",
       "      <td>-0.03</td>\n",
       "    </tr>\n",
       "    <tr>\n",
       "      <th>50%</th>\n",
       "      <td>0.01</td>\n",
       "      <td>-0.04</td>\n",
       "      <td>-0.01</td>\n",
       "      <td>-0.01</td>\n",
       "      <td>-0.00</td>\n",
       "      <td>-0.00</td>\n",
       "      <td>-0.01</td>\n",
       "      <td>-0.00</td>\n",
       "      <td>-0.00</td>\n",
       "      <td>-0.00</td>\n",
       "    </tr>\n",
       "    <tr>\n",
       "      <th>75%</th>\n",
       "      <td>0.04</td>\n",
       "      <td>0.05</td>\n",
       "      <td>0.03</td>\n",
       "      <td>0.04</td>\n",
       "      <td>0.03</td>\n",
       "      <td>0.03</td>\n",
       "      <td>0.03</td>\n",
       "      <td>0.03</td>\n",
       "      <td>0.03</td>\n",
       "      <td>0.03</td>\n",
       "    </tr>\n",
       "    <tr>\n",
       "      <th>max</th>\n",
       "      <td>0.11</td>\n",
       "      <td>0.05</td>\n",
       "      <td>0.17</td>\n",
       "      <td>0.13</td>\n",
       "      <td>0.15</td>\n",
       "      <td>0.20</td>\n",
       "      <td>0.18</td>\n",
       "      <td>0.19</td>\n",
       "      <td>0.13</td>\n",
       "      <td>0.14</td>\n",
       "    </tr>\n",
       "  </tbody>\n",
       "</table>\n",
       "</div>"
      ],
      "text/plain": [
       "         age    sex    bmi     bp     s1     s2     s3     s4     s5     s6\n",
       "count 442.00 442.00 442.00 442.00 442.00 442.00 442.00 442.00 442.00 442.00\n",
       "mean   -0.00   0.00  -0.00  -0.00  -0.00   0.00  -0.00  -0.00   0.00   0.00\n",
       "std     0.05   0.05   0.05   0.05   0.05   0.05   0.05   0.05   0.05   0.05\n",
       "min    -0.11  -0.04  -0.09  -0.11  -0.13  -0.12  -0.10  -0.08  -0.13  -0.14\n",
       "25%    -0.04  -0.04  -0.03  -0.04  -0.03  -0.03  -0.04  -0.04  -0.03  -0.03\n",
       "50%     0.01  -0.04  -0.01  -0.01  -0.00  -0.00  -0.01  -0.00  -0.00  -0.00\n",
       "75%     0.04   0.05   0.03   0.04   0.03   0.03   0.03   0.03   0.03   0.03\n",
       "max     0.11   0.05   0.17   0.13   0.15   0.20   0.18   0.19   0.13   0.14"
      ]
     },
     "execution_count": 4,
     "metadata": {},
     "output_type": "execute_result"
    }
   ],
   "source": [
    "pd.options.display.float_format = '{:.2f}'.format\n",
    "X.describe()"
   ]
  },
  {
   "cell_type": "code",
   "execution_count": 5,
   "id": "65c3aeea",
   "metadata": {
    "execution": {
     "iopub.execute_input": "2023-05-20T15:57:23.801049Z",
     "iopub.status.busy": "2023-05-20T15:57:23.799769Z",
     "iopub.status.idle": "2023-05-20T15:57:24.265036Z",
     "shell.execute_reply": "2023-05-20T15:57:24.263629Z"
    },
    "papermill": {
     "duration": 0.477342,
     "end_time": "2023-05-20T15:57:24.267821",
     "exception": false,
     "start_time": "2023-05-20T15:57:23.790479",
     "status": "completed"
    },
    "tags": []
   },
   "outputs": [
    {
     "data": {
      "image/png": "[encoded data removed]",
      "text/plain": [
       "<Figure size 1000x500 with 1 Axes>"
      ]
     },
     "metadata": {},
     "output_type": "display_data"
    }
   ],
   "source": [
    "%matplotlib inline\n",
    "import matplotlib.pyplot as dg\n",
    "dg.style.use(\"seaborn-v0_8-whitegrid\")\n",
    "\n",
    "ábra, tengelyek = dg.subplots(nrows=1, ncols=1,\n",
    "                         figsize=(10, 5))\n",
    "\n",
    "jellemzők = [\"bmi\", \"bp\", \"s1\", \"s2\", \"s3\", \"s4\", \"s5\" ,\"s6\"]\n",
    "X[jellemzők].boxplot(ax=tengelyek);"
   ]
  },
  {
   "cell_type": "markdown",
   "id": "353d507a",
   "metadata": {
    "papermill": {
     "duration": 0.008065,
     "end_time": "2023-05-20T15:57:24.284245",
     "exception": false,
     "start_time": "2023-05-20T15:57:24.276180",
     "status": "completed"
    },
    "tags": []
   },
   "source": [
    "## Használjuk ki a Gauss-eloszlást"
   ]
  },
  {
   "cell_type": "code",
   "execution_count": 6,
   "id": "ce30d7af",
   "metadata": {
    "execution": {
     "iopub.execute_input": "2023-05-20T15:57:24.302947Z",
     "iopub.status.busy": "2023-05-20T15:57:24.302466Z",
     "iopub.status.idle": "2023-05-20T15:57:24.321301Z",
     "shell.execute_reply": "2023-05-20T15:57:24.319872Z"
    },
    "papermill": {
     "duration": 0.031502,
     "end_time": "2023-05-20T15:57:24.324172",
     "exception": false,
     "start_time": "2023-05-20T15:57:24.292670",
     "status": "completed"
    },
    "tags": []
   },
   "outputs": [
    {
     "data": {
      "text/plain": [
       "Int64Index([58, 123, 216, 230, 256, 260, 261, 269, 322, 336, 367, 441], dtype='int64')"
      ]
     },
     "execution_count": 6,
     "metadata": {},
     "output_type": "execute_result"
    }
   ],
   "source": [
    "from sklearn.preprocessing import StandardScaler\n",
    "\n",
    "Xs = StandardScaler().fit_transform(X[jellemzők])\n",
    "# A .any(1) metódussal elkerülheted a duplikálást\n",
    "X[jellemzők][(np.abs(Xs)>3).any(1)].index"
   ]
  },
  {
   "cell_type": "markdown",
   "id": "3da512a6",
   "metadata": {
    "papermill": {
     "duration": 0.00831,
     "end_time": "2023-05-20T15:57:24.341152",
     "exception": false,
     "start_time": "2023-05-20T15:57:24.332842",
     "status": "completed"
    },
    "tags": []
   },
   "source": [
    "## Korrigáljuk a kiugró értékeket"
   ]
  },
  {
   "cell_type": "code",
   "execution_count": 7,
   "id": "01f5dd0f",
   "metadata": {
    "execution": {
     "iopub.execute_input": "2023-05-20T15:57:24.362383Z",
     "iopub.status.busy": "2023-05-20T15:57:24.361648Z",
     "iopub.status.idle": "2023-05-20T15:57:24.375060Z",
     "shell.execute_reply": "2023-05-20T15:57:24.373537Z"
    },
    "papermill": {
     "duration": 0.026733,
     "end_time": "2023-05-20T15:57:24.377786",
     "exception": false,
     "start_time": "2023-05-20T15:57:24.351053",
     "status": "completed"
    },
    "tags": []
   },
   "outputs": [
    {
     "name": "stdout",
     "output_type": "stream",
     "text": [
      "(430, 10)\n"
     ]
    }
   ],
   "source": [
    "átlag = X[jellemzők].mean()\n",
    "szórás = X[jellemzők].std()\n",
    "\n",
    "# Kizárjuk azokat a sorokat, amelyekben az érték a szórás 3-szorosánál nagyobb távolságra van az átlagtól\n",
    "csak_érvényes_maszk = (np.abs(X[jellemzők] - átlag) <=\n",
    "                  (3 * szórás)).all(axis=1)\n",
    "sorszintű_törlés = X[csak_érvényes_maszk]\n",
    "\n",
    "print(sorszintű_törlés.shape)"
   ]
  },
  {
   "cell_type": "code",
   "execution_count": 8,
   "id": "cde10617",
   "metadata": {
    "execution": {
     "iopub.execute_input": "2023-05-20T15:57:24.397595Z",
     "iopub.status.busy": "2023-05-20T15:57:24.396764Z",
     "iopub.status.idle": "2023-05-20T15:57:24.412529Z",
     "shell.execute_reply": "2023-05-20T15:57:24.411154Z"
    },
    "papermill": {
     "duration": 0.028966,
     "end_time": "2023-05-20T15:57:24.415585",
     "exception": false,
     "start_time": "2023-05-20T15:57:24.386619",
     "status": "completed"
    },
    "tags": []
   },
   "outputs": [],
   "source": [
    "from scipy.stats.mstats import winsorize\n",
    "\n",
    "winsorizált = X.copy()\n",
    "winsorizált[jellemzők] = winsorizált[ jellemzők].apply(\n",
    "   lambda x: winsorize(x, limits=(0.05, 0.05)))"
   ]
  },
  {
   "cell_type": "code",
   "execution_count": 9,
   "id": "177681e7",
   "metadata": {
    "execution": {
     "iopub.execute_input": "2023-05-20T15:57:24.434769Z",
     "iopub.status.busy": "2023-05-20T15:57:24.434276Z",
     "iopub.status.idle": "2023-05-20T15:57:24.447510Z",
     "shell.execute_reply": "2023-05-20T15:57:24.446204Z"
    },
    "papermill": {
     "duration": 0.026019,
     "end_time": "2023-05-20T15:57:24.450178",
     "exception": false,
     "start_time": "2023-05-20T15:57:24.424159",
     "status": "completed"
    },
    "tags": []
   },
   "outputs": [],
   "source": [
    "from sklearn.preprocessing import RobustScaler\n",
    "\n",
    "ellenálló_újraskálázás = RobustScaler().fit_transform(\n",
    "    X[jellemzők])"
   ]
  },
  {
   "cell_type": "markdown",
   "id": "c60f6c10",
   "metadata": {
    "papermill": {
     "duration": 0.008257,
     "end_time": "2023-05-20T15:57:24.466889",
     "exception": false,
     "start_time": "2023-05-20T15:57:24.458632",
     "status": "completed"
    },
    "tags": []
   },
   "source": [
    "# Dolgozzunk ki egy többváltozós megközelítést"
   ]
  },
  {
   "cell_type": "markdown",
   "id": "5a33f7fa",
   "metadata": {
    "papermill": {
     "duration": 0.008079,
     "end_time": "2023-05-20T15:57:24.483394",
     "exception": false,
     "start_time": "2023-05-20T15:57:24.475315",
     "status": "completed"
    },
    "tags": []
   },
   "source": [
    "## Használjunk főkomponens-analízist"
   ]
  },
  {
   "cell_type": "code",
   "execution_count": 10,
   "id": "e0043d6b",
   "metadata": {
    "execution": {
     "iopub.execute_input": "2023-05-20T15:57:24.502136Z",
     "iopub.status.busy": "2023-05-20T15:57:24.501692Z",
     "iopub.status.idle": "2023-05-20T15:57:25.202858Z",
     "shell.execute_reply": "2023-05-20T15:57:25.201679Z"
    },
    "papermill": {
     "duration": 0.714106,
     "end_time": "2023-05-20T15:57:25.205857",
     "exception": false,
     "start_time": "2023-05-20T15:57:24.491751",
     "status": "completed"
    },
    "tags": []
   },
   "outputs": [
    {
     "name": "stdout",
     "output_type": "stream",
     "text": [
      "az első két komponens által magyarázott szórás: 55.2%\n",
      "az utolsó két komponens által magyarázott szórás: 0.9%\n"
     ]
    },
    {
     "data": {
      "image/png": "[encoded data removed]",
      "text/plain": [
       "<Figure size 1500x500 with 2 Axes>"
      ]
     },
     "metadata": {},
     "output_type": "display_data"
    }
   ],
   "source": [
    "%matplotlib inline\n",
    "from sklearn.decomposition import PCA\n",
    "from sklearn.preprocessing import scale\n",
    "from pandas.plotting import scatter_matrix\n",
    "import pandas as pd\n",
    "import matplotlib.pyplot as dg\n",
    "\n",
    "pca = PCA()\n",
    "pca_mat = pca.fit_transform(scale(X))\n",
    "\n",
    "első_komp = sum(pca.explained_variance_ratio_[:2] * 100)\n",
    "utolsó_komp = sum(pca.explained_variance_ratio_[-2:] * 100)\n",
    "\n",
    "print(f\"az első két komponens által magyarázott szórás: \"\n",
    "      f\"{első_komp:.1f}%\")\n",
    "print(f\"az utolsó két komponens által magyarázott szórás: \"\n",
    "      f\"{utolsó_komp:.1f}%\")\n",
    "ak_pca = pd.DataFrame(\n",
    "    pca_mat, columns=[f\"comp_{j}\" for j in range(10)])\n",
    "\n",
    "ábra, tengelyek = dg.subplots(nrows=1, ncols=2, figsize=(15, 5))\n",
    "első_kettő = ak_pca.plot.scatter(\n",
    "    x=\"comp_0\", y=\"comp_1\", s=50, grid=True,\n",
    "    c=\"Azure\", edgecolors=\"DarkBlue\", ax=tengelyek[0])\n",
    "utolsó_kettő = ak_pca.plot.scatter(\n",
    "    x=\"comp_8\", y=\"comp_9\", s=50, grid=True,\n",
    "    c=\"Azure\", edgecolors=\"DarkBlue\", ax=tengelyek[1])\n",
    "\n",
    "dg.show()"
   ]
  },
  {
   "cell_type": "code",
   "execution_count": 11,
   "id": "66e124fb",
   "metadata": {
    "execution": {
     "iopub.execute_input": "2023-05-20T15:57:25.229176Z",
     "iopub.status.busy": "2023-05-20T15:57:25.228720Z",
     "iopub.status.idle": "2023-05-20T15:57:25.237136Z",
     "shell.execute_reply": "2023-05-20T15:57:25.236256Z"
    },
    "papermill": {
     "duration": 0.02302,
     "end_time": "2023-05-20T15:57:25.239567",
     "exception": false,
     "start_time": "2023-05-20T15:57:25.216547",
     "status": "completed"
    },
    "tags": []
   },
   "outputs": [
    {
     "data": {
      "text/plain": [
       "Int64Index([23, 58, 110, 169, 254, 322, 323, 353, 371, 394], dtype='int64')"
      ]
     },
     "execution_count": 11,
     "metadata": {},
     "output_type": "execute_result"
    }
   ],
   "source": [
    "kiugró = (pca_mat[:,-1] > 0.3) | (pca_mat[:,-2] > 1.0)\n",
    "ak_pca[kiugró].index"
   ]
  },
  {
   "cell_type": "markdown",
   "id": "ab0ac7fc",
   "metadata": {
    "papermill": {
     "duration": 0.010377,
     "end_time": "2023-05-20T15:57:25.260806",
     "exception": false,
     "start_time": "2023-05-20T15:57:25.250429",
     "status": "completed"
    },
    "tags": []
   },
   "source": [
    "## Használjunk klaszteranalízist a kiugró értékek kiszűrésére"
   ]
  },
  {
   "cell_type": "code",
   "execution_count": 12,
   "id": "b4c22146",
   "metadata": {
    "execution": {
     "iopub.execute_input": "2023-05-20T15:57:25.284918Z",
     "iopub.status.busy": "2023-05-20T15:57:25.284510Z",
     "iopub.status.idle": "2023-05-20T15:57:25.535676Z",
     "shell.execute_reply": "2023-05-20T15:57:25.534444Z"
    },
    "papermill": {
     "duration": 0.266253,
     "end_time": "2023-05-20T15:57:25.538134",
     "exception": false,
     "start_time": "2023-05-20T15:57:25.271881",
     "status": "completed"
    },
    "tags": []
   },
   "outputs": [
    {
     "name": "stdout",
     "output_type": "stream",
     "text": [
      "Counter({0: 414, -1: 28})\n"
     ]
    },
    {
     "data": {
      "text/plain": [
       "Int64Index([ 15,  23,  29,  35,  78, 117, 123, 141, 161, 169, 230, 248, 251,\n",
       "            261, 276, 321, 322, 323, 336, 349, 352, 353, 367, 376, 394, 405,\n",
       "            422, 441],\n",
       "           dtype='int64')"
      ]
     },
     "execution_count": 12,
     "metadata": {},
     "output_type": "execute_result"
    }
   ],
   "source": [
    "from sklearn.cluster import DBSCAN\n",
    "DB = DBSCAN(eps=2.5, min_samples=25)\n",
    "DB.fit(pca_mat)\n",
    "\n",
    "from collections import Counter\n",
    "print(Counter(DB.labels_))\n",
    "\n",
    "ak_pca[DB.labels_==-1].index"
   ]
  },
  {
   "cell_type": "markdown",
   "id": "7a47c0cf",
   "metadata": {
    "papermill": {
     "duration": 0.010346,
     "end_time": "2023-05-20T15:57:25.559290",
     "exception": false,
     "start_time": "2023-05-20T15:57:25.548944",
     "status": "completed"
    },
    "tags": []
   },
   "source": [
    "## Automatizáljuk az észlelést izolációs erdőkkel"
   ]
  },
  {
   "cell_type": "code",
   "execution_count": 13,
   "id": "49bff223",
   "metadata": {
    "execution": {
     "iopub.execute_input": "2023-05-20T15:57:25.584167Z",
     "iopub.status.busy": "2023-05-20T15:57:25.583717Z",
     "iopub.status.idle": "2023-05-20T15:57:26.062862Z",
     "shell.execute_reply": "2023-05-20T15:57:26.061476Z"
    },
    "papermill": {
     "duration": 0.494035,
     "end_time": "2023-05-20T15:57:26.065524",
     "exception": false,
     "start_time": "2023-05-20T15:57:25.571489",
     "status": "completed"
    },
    "tags": []
   },
   "outputs": [
    {
     "data": {
      "text/plain": [
       "Int64Index([ 10,  11,  15,  23,  32,  58, 110, 123, 141, 202, 230, 260, 261,\n",
       "            269, 286, 321, 322, 323, 352, 353, 382, 394, 441],\n",
       "           dtype='int64')"
      ]
     },
     "execution_count": 13,
     "metadata": {},
     "output_type": "execute_result"
    }
   ],
   "source": [
    "from sklearn.ensemble import IsolationForest\n",
    "\n",
    "auto_észlelés = IsolationForest(max_samples=50,\n",
    "                                 contamination=0.05,\n",
    "                                 random_state=0)\n",
    "auto_észlelés.fit(pca_mat)\n",
    "\n",
    "ierdő = auto_észlelés.predict(pca_mat)\n",
    "ak_pca[ierdő==-1].index"
   ]
  },
  {
   "cell_type": "code",
   "execution_count": null,
   "id": "f3d11ef9",
   "metadata": {},
   "outputs": [],
   "source": []
  }
 ],
 "metadata": {
  "kernelspec": {
   "display_name": "Python 3 (ipykernel)",
   "language": "python",
   "name": "python3"
  },
  "language_info": {
   "codemirror_mode": {
    "name": "ipython",
    "version": 3
   },
   "file_extension": ".py",
   "mimetype": "text/x-python",
   "name": "python",
   "nbconvert_exporter": "python",
   "pygments_lexer": "ipython3",
   "version": "3.10.9"
  },
  "papermill": {
   "default_parameters": {},
   "duration": 18.099306,
   "end_time": "2023-05-20T15:57:26.900391",
   "environment_variables": {},
   "exception": null,
   "input_path": "__notebook__.ipynb",
   "output_path": "__notebook__.ipynb",
   "parameters": {},
   "start_time": "2023-05-20T15:57:08.801085",
   "version": "2.4.0"
  }
 },
 "nbformat": 4,
 "nbformat_minor": 5
}
