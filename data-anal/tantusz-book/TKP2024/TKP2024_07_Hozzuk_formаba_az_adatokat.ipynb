{
 "cells": [
  {
   "cell_type": "markdown",
   "metadata": {},
   "source": [
    "# Érvényesítsük az adatokat"
   ]
  },
  {
   "cell_type": "markdown",
   "metadata": {},
   "source": [
    "## Derítsük ki, hogy mit rejtenek az adatok"
   ]
  },
  {
   "cell_type": "code",
   "execution_count": 1,
   "metadata": {},
   "outputs": [
    {
     "name": "stdout",
     "output_type": "stream",
     "text": [
      "  Szám   Sztring Logikai\n",
      "0    1      Első    Igaz\n",
      "1    2   Második   Hamis\n",
      "2    3  Harmadik    Igaz\n",
      "3    3  Harmadik    Igaz\n",
      "\n",
      "3    True\n",
      "dtype: bool\n"
     ]
    }
   ],
   "source": [
    "from lxml import objectify\n",
    "import pandas as pd\n",
    "\n",
    "xml = objectify.parse(open('XMLAdatok2.xml'))\n",
    "gyökér = xml.getroot()\n",
    "ak = pd.DataFrame(columns=('Szám', 'Sztring', 'Logikai'))\n",
    "\n",
    "for i in range(0,4):\n",
    "    obj = gyökér.getchildren()[i].getchildren()\n",
    "    sor = dict(zip(['Szám', 'Sztring', 'Logikai'],\n",
    "                   [obj[0].text, obj[1].text,\n",
    "                    obj[2].text]))\n",
    "    sor_s = pd.Series(sor)\n",
    "    sor_s.name = i\n",
    "    sor_s = sor_s.to_frame().transpose()\n",
    "    ak = pd.concat([ak, sor_s])\n",
    "\n",
    "keresés = pd.DataFrame.duplicated(ak)\n",
    "print(ak)\n",
    "print(f\"\\n{keresés[keresés == True]}\")"
   ]
  },
  {
   "cell_type": "markdown",
   "metadata": {},
   "source": [
    "## Távolítsuk el a duplikátumokat"
   ]
  },
  {
   "cell_type": "code",
   "execution_count": 2,
   "metadata": {},
   "outputs": [
    {
     "name": "stdout",
     "output_type": "stream",
     "text": [
      "  Szám   Sztring Logikai\n",
      "0    1      Első    Igaz\n",
      "1    2   Második   Hamis\n",
      "2    3  Harmadik    Igaz\n"
     ]
    }
   ],
   "source": [
    "from lxml import objectify\n",
    "import pandas as pd\n",
    "\n",
    "xml = objectify.parse(open('XMLAdatok2.xml'))\n",
    "gyökér = xml.getroot()\n",
    "df = pd.DataFrame(columns=('Szám', 'Sztring', 'Logikai'))\n",
    "for i in range(0,4):\n",
    "    obj = gyökér.getchildren()[i].getchildren()\n",
    "    sor = dict(zip(['Szám', 'Sztring', 'Logikai'],\n",
    "                   [obj[0].text, obj[1].text,\n",
    "                    obj[2].text]))\n",
    "    sor_s = pd.Series(sor)\n",
    "    sor_s.name = i\n",
    "    sor_s = sor_s.to_frame().transpose()\n",
    "    ak = pd.concat([ak, sor_s])\n",
    "\n",
    "print(ak.drop_duplicates())"
   ]
  },
  {
   "cell_type": "markdown",
   "metadata": {},
   "source": [
    "## Készítsünk adattérképet és adattervet"
   ]
  },
  {
   "cell_type": "code",
   "execution_count": 3,
   "metadata": {},
   "outputs": [
    {
     "name": "stdout",
     "output_type": "stream",
     "text": [
      "      B                                            \\\n",
      "  count mean       std  min   25%  50%   75%  max   \n",
      "A                                                   \n",
      "0   5.0  3.0  1.581139  1.0  2.00  3.0  4.00  5.0   \n",
      "1   2.0  3.5  2.121320  2.0  2.75  3.5  4.25  5.0   \n",
      "\n",
      "      C                                            \n",
      "  count mean       std  min   25%  50%   75%  max  \n",
      "A                                                  \n",
      "0   5.0  2.8  1.788854  1.0  1.00  3.0  4.00  5.0  \n",
      "1   2.0  2.5  0.707107  2.0  2.25  2.5  2.75  3.0  \n"
     ]
    }
   ],
   "source": [
    "import pandas as pd\n",
    "pd.set_option('display.width', 55)\n",
    "\n",
    "ak = pd.DataFrame({'A': [0,0,0,0,0,1,1],\n",
    "                   'B': [1,2,3,5,4,2,5],\n",
    "                   'C': [5,3,4,1,1,2,3]})\n",
    "\n",
    "a_csoportleírás = ak.groupby('A').describe()\n",
    "print(a_csoportleírás)"
   ]
  },
  {
   "cell_type": "code",
   "execution_count": 4,
   "metadata": {},
   "outputs": [
    {
     "name": "stdout",
     "output_type": "stream",
     "text": [
      "                B         C\n",
      "A                          \n",
      "0 count  5.000000  5.000000\n",
      "  mean   3.000000  2.800000\n",
      "  std    1.581139  1.788854\n",
      "  min    1.000000  1.000000\n",
      "  25%    2.000000  1.000000\n",
      "  50%    3.000000  3.000000\n",
      "  75%    4.000000  4.000000\n",
      "  max    5.000000  5.000000\n",
      "1 count  2.000000  2.000000\n",
      "  mean   3.500000  2.500000\n",
      "  std    2.121320  0.707107\n",
      "  min    2.000000  2.000000\n",
      "  25%    2.750000  2.250000\n",
      "  50%    3.500000  2.500000\n",
      "  75%    4.250000  2.750000\n",
      "  max    5.000000  3.000000\n"
     ]
    }
   ],
   "source": [
    "halmozott = a_csoportleírás.stack()\n",
    "print(halmozott)"
   ]
  },
  {
   "cell_type": "code",
   "execution_count": 5,
   "metadata": {},
   "outputs": [
    {
     "name": "stdout",
     "output_type": "stream",
     "text": [
      "      B          C     \n",
      "  count mean count mean\n",
      "A                      \n",
      "0   5.0  3.0   5.0  2.8\n",
      "1   2.0  3.5   2.0  2.5\n"
     ]
    }
   ],
   "source": [
    "print(a_csoportleírás.loc[:,(slice(None),['count','mean']),])"
   ]
  },
  {
   "cell_type": "markdown",
   "metadata": {},
   "source": [
    "# Kezeljünk kategorikus változókat"
   ]
  },
  {
   "cell_type": "markdown",
   "metadata": {},
   "source": [
    "## A pandas verziójának ellenőrzése"
   ]
  },
  {
   "cell_type": "code",
   "execution_count": 6,
   "metadata": {},
   "outputs": [
    {
     "name": "stdout",
     "output_type": "stream",
     "text": [
      "1.5.3\n"
     ]
    }
   ],
   "source": [
    "import pandas as pd\n",
    "print(pd.__version__)"
   ]
  },
  {
   "cell_type": "markdown",
   "metadata": {},
   "source": [
    "## Hozzunk létre kategorikus változókat"
   ]
  },
  {
   "cell_type": "code",
   "execution_count": 7,
   "metadata": {},
   "outputs": [
    {
     "name": "stdout",
     "output_type": "stream",
     "text": [
      "0      Kék\n",
      "1    Piros\n",
      "2     Zöld\n",
      "dtype: category\n",
      "Categories (3, object): ['Kék', 'Piros', 'Zöld']\n",
      "\n",
      "0      NaN\n",
      "1     Zöld\n",
      "2    Piros\n",
      "3      Kék\n",
      "4      NaN\n",
      "dtype: category\n",
      "Categories (3, object): ['Kék', 'Piros', 'Zöld']\n",
      "\n",
      "0    True\n",
      "4    True\n",
      "dtype: bool\n"
     ]
    }
   ],
   "source": [
    "import pandas as pd\n",
    "\n",
    "autószínek = pd.Series(['Kék', 'Piros', 'Zöld'],\n",
    "                       dtype='category')\n",
    "autóadatok = pd.Series(\n",
    "    pd.Categorical(\n",
    "        ['Sárga', 'Zöld', 'Piros', 'Kék', 'Lila'],\n",
    "        categories = autószínek, ordered = False))\n",
    "\n",
    "bejegyzések_keresése = pd.isnull(autóadatok)\n",
    "\n",
    "print(autószínek)\n",
    "print(f\"\\n{autóadatok}\")\n",
    "print(f\"\\n{bejegyzések_keresése[bejegyzések_keresése == True]}\")"
   ]
  },
  {
   "cell_type": "markdown",
   "metadata": {},
   "source": [
    "## Nevezzünk át szinteket"
   ]
  },
  {
   "cell_type": "code",
   "execution_count": 8,
   "metadata": {},
   "outputs": [
    {
     "name": "stdout",
     "output_type": "stream",
     "text": [
      "0      Lila\n",
      "1    Mályva\n",
      "2     Sárga\n",
      "3      Lila\n",
      "4     Sárga\n",
      "dtype: category\n",
      "Categories (3, object): ['Lila', 'Sárga', 'Mályva']\n"
     ]
    }
   ],
   "source": [
    "import pandas as pd\n",
    "\n",
    "autószínek = pd.Series(['Kék', 'Piros', 'Zöld'],\n",
    "                       dtype='category')\n",
    "autóadatok = pd.Series(\n",
    "    pd.Categorical(\n",
    "        ['Kék', 'Zöld', 'Piros', 'Kék', 'Piros'],\n",
    "        categories=autószínek, ordered=False))\n",
    "\n",
    "autóadatok = autóadatok.cat.rename_categories(\n",
    "    [\"Lila\", \"Sárga\", \"Mályva\"])\n",
    "\n",
    "print(autóadatok)"
   ]
  },
  {
   "cell_type": "markdown",
   "metadata": {},
   "source": [
    "## Vonjunk össze szinteket"
   ]
  },
  {
   "cell_type": "code",
   "execution_count": 9,
   "metadata": {},
   "outputs": [
    {
     "name": "stdout",
     "output_type": "stream",
     "text": [
      "2    Piros\n",
      "4    Piros\n",
      "dtype: category\n",
      "Categories (4, object): ['Kék', 'Piros', 'Zöld', 'Kék_Piros']\n",
      "\n",
      "0    Kék_Piros\n",
      "1         Zöld\n",
      "2    Kék_Piros\n",
      "3         Zöld\n",
      "4    Kék_Piros\n",
      "5         Zöld\n",
      "dtype: category\n",
      "Categories (2, object): ['Zöld', 'Kék_Piros']\n"
     ]
    }
   ],
   "source": [
    "import pandas as pd\n",
    "\n",
    "autószínek = pd.Series(['Kék', 'Piros', 'Zöld'],\n",
    "    dtype='category')\n",
    "autóadatok = pd.Series(\n",
    "    pd.Categorical(\n",
    "       ['Kék', 'Zöld', 'Piros', 'Zöld', 'Piros', 'Zöld'],\n",
    "       categories=autószínek, ordered=False))\n",
    "autóadatok = autóadatok.cat.set_categories(\n",
    "    [\"Kék\", \"Piros\", \"Zöld\", \"Kék_Piros\"])\n",
    "\n",
    "print(autóadatok.loc[autóadatok.isin(['Piros'])])\n",
    "\n",
    "autóadatok.loc[autóadatok.isin(['Piros'])] = 'Kék_Piros'\n",
    "autóadatok.loc[autóadatok.isin(['Kék'])] = 'Kék_Piros'\n",
    "autóadatok = autóadatok.cat.set_categories(\n",
    "    [\"Zöld\", \"Kék_Piros\"])\n",
    "\n",
    "print(f\"\\n{autóadatok}\")"
   ]
  },
  {
   "cell_type": "markdown",
   "metadata": {},
   "source": [
    "# Kezeljük a dátumokat az adatokban"
   ]
  },
  {
   "cell_type": "markdown",
   "metadata": {},
   "source": [
    "## Formázzunk dátum- és időértékeket"
   ]
  },
  {
   "cell_type": "code",
   "execution_count": 10,
   "metadata": {},
   "outputs": [
    {
     "name": "stdout",
     "output_type": "stream",
     "text": [
      "2024-03-14 12:19:53.730175\n",
      "Thu, 14 March 2024\n"
     ]
    }
   ],
   "source": [
    "import datetime as di\n",
    "\n",
    "most = di.datetime.now()\n",
    "\n",
    "print(str(most))\n",
    "print(most.strftime('%a, %d %B %Y'))"
   ]
  },
  {
   "cell_type": "markdown",
   "metadata": {},
   "source": [
    "## Használjuk a megfelelő időtranszformációt"
   ]
  },
  {
   "cell_type": "code",
   "execution_count": 11,
   "metadata": {},
   "outputs": [
    {
     "name": "stdout",
     "output_type": "stream",
     "text": [
      "12:19:53\n",
      "14:19:53\n",
      "2:00:00\n"
     ]
    }
   ],
   "source": [
    "import datetime as di\n",
    "\n",
    "most = di.datetime.now()\n",
    "időérték = most + di.timedelta(hours=2)\n",
    "\n",
    "print(most.strftime('%H:%M:%S'))\n",
    "print(időérték.strftime('%H:%M:%S'))\n",
    "print(időérték - most)"
   ]
  },
  {
   "cell_type": "markdown",
   "metadata": {},
   "source": [
    "# Kezeljük a hiányzó adatokat"
   ]
  },
  {
   "cell_type": "markdown",
   "metadata": {},
   "source": [
    "## Keressük meg a hiányzó adatokat"
   ]
  },
  {
   "cell_type": "code",
   "execution_count": 12,
   "metadata": {},
   "outputs": [
    {
     "name": "stdout",
     "output_type": "stream",
     "text": [
      "0    False\n",
      "1    False\n",
      "2    False\n",
      "3     True\n",
      "4    False\n",
      "5    False\n",
      "6     True\n",
      "dtype: bool\n",
      "\n",
      "3   NaN\n",
      "6   NaN\n",
      "dtype: float64\n"
     ]
    }
   ],
   "source": [
    "import pandas as pd\n",
    "import numpy as np\n",
    "\n",
    "s = pd.Series([1, 2, 3, np.NaN, 5, 6, None])\n",
    "\n",
    "print(s.isnull())\n",
    "print(f\"\\n{s[s.isnull()]}\")"
   ]
  },
  {
   "cell_type": "markdown",
   "metadata": {},
   "source": [
    "## Kódoljuk a hiányt"
   ]
  },
  {
   "cell_type": "code",
   "execution_count": 13,
   "metadata": {},
   "outputs": [
    {
     "name": "stdout",
     "output_type": "stream",
     "text": [
      "0    1.0\n",
      "1    2.0\n",
      "2    3.0\n",
      "3    3.0\n",
      "4    5.0\n",
      "5    6.0\n",
      "6    3.0\n",
      "dtype: float64\n",
      "\n",
      "0    1.0\n",
      "1    2.0\n",
      "2    3.0\n",
      "4    5.0\n",
      "5    6.0\n",
      "dtype: float64\n"
     ]
    }
   ],
   "source": [
    "import pandas as pd\n",
    "import numpy as np\n",
    "\n",
    "s = pd.Series([1, 2, 3, np.NaN, 5, 6, None])\n",
    "\n",
    "print(s.fillna(int(s.mean())))\n",
    "print(f\"\\n{s.dropna()}\")"
   ]
  },
  {
   "cell_type": "markdown",
   "metadata": {},
   "source": [
    "## Rendeljünk hozzá hiányzó adatokat"
   ]
  },
  {
   "cell_type": "code",
   "execution_count": 14,
   "metadata": {},
   "outputs": [
    {
     "name": "stdout",
     "output_type": "stream",
     "text": [
      "[[1.  0. ]\n",
      " [2.  0. ]\n",
      " [3.  0. ]\n",
      " [3.4 1. ]\n",
      " [5.  0. ]\n",
      " [6.  0. ]\n",
      " [3.4 1. ]]\n"
     ]
    }
   ],
   "source": [
    "import pandas as pd\n",
    "import numpy as np\n",
    "from sklearn.impute import SimpleImputer\n",
    "\n",
    "s = pd.DataFrame([1, 2, 3, np.nan, 5, 6, np.nan])\n",
    "\n",
    "imp = SimpleImputer(missing_values=np.nan,\n",
    "                    add_indicator=True,\n",
    "                    strategy='mean')\n",
    "\n",
    "imp.fit(s)\n",
    "x = imp.transform(s)\n",
    "print(x)"
   ]
  },
  {
   "cell_type": "markdown",
   "metadata": {},
   "source": [
    "# Egy- és többirányú szeletelés: szűrjük és jelöljük ki az adatokat"
   ]
  },
  {
   "cell_type": "markdown",
   "metadata": {},
   "source": [
    "## Szeleteljünk sorokat"
   ]
  },
  {
   "cell_type": "code",
   "execution_count": 15,
   "metadata": {},
   "outputs": [
    {
     "data": {
      "text/plain": [
       "array([[11, 12, 13],\n",
       "       [14, 15, 16],\n",
       "       [17, 18, 19]])"
      ]
     },
     "execution_count": 15,
     "metadata": {},
     "output_type": "execute_result"
    }
   ],
   "source": [
    "x = np.array([[[1, 2, 3], [4, 5, 6], [7, 8, 9],],\n",
    "             [[11,12,13], [14,15,16], [17,18,19],],\n",
    "             [[21,22,23], [24,25,26], [27,28,29]]])\n",
    "x[1]"
   ]
  },
  {
   "cell_type": "markdown",
   "metadata": {},
   "source": [
    "## Szeleteljünk oszlopokat"
   ]
  },
  {
   "cell_type": "code",
   "execution_count": 16,
   "metadata": {},
   "outputs": [
    {
     "data": {
      "text/plain": [
       "array([[ 4,  5,  6],\n",
       "       [14, 15, 16],\n",
       "       [24, 25, 26]])"
      ]
     },
     "execution_count": 16,
     "metadata": {},
     "output_type": "execute_result"
    }
   ],
   "source": [
    "x = np.array([[[1, 2, 3], [4, 5, 6], [7, 8, 9],],\n",
    "             [[11,12,13], [14,15,16], [17,18,19],],\n",
    "             [[21,22,23], [24,25,26], [27,28,29]]])\n",
    "x[:,1]"
   ]
  },
  {
   "cell_type": "markdown",
   "metadata": {},
   "source": [
    "## Végezzünk többirányú szeletelést"
   ]
  },
  {
   "cell_type": "code",
   "execution_count": 17,
   "metadata": {},
   "outputs": [
    {
     "name": "stdout",
     "output_type": "stream",
     "text": [
      "[14 15 16]\n",
      "[ 5 15 25]\n",
      "[12 15 18]\n",
      "\n",
      "[[[14 15 16]]]\n"
     ]
    }
   ],
   "source": [
    "x = np.array([[[1, 2, 3], [4, 5, 6], [7, 8, 9],],\n",
    "             [[11,12,13], [14,15,16], [17,18,19],],\n",
    "             [[21,22,23], [24,25,26], [27,28,29]]])\n",
    "print(x[1,1])\n",
    "print(x[:,1,1])\n",
    "print(x[1,:,1])\n",
    "print(f\"\\n{x[1:2, 1:2]}\")"
   ]
  },
  {
   "cell_type": "markdown",
   "metadata": {},
   "source": [
    "# Fűzzünk össze és transzformáljunk adatokat"
   ]
  },
  {
   "cell_type": "markdown",
   "metadata": {},
   "source": [
    "## Adjunk hozzá új eseteket és változókat"
   ]
  },
  {
   "cell_type": "code",
   "execution_count": 18,
   "metadata": {},
   "outputs": [
    {
     "name": "stdout",
     "output_type": "stream",
     "text": [
      "   A  B  C\n",
      "0  2  1  5\n",
      "1  3  2  3\n",
      "2  1  3  4\n",
      "3  4  4  4\n",
      "\n",
      "   A  B  C\n",
      "0  2  1  5\n",
      "1  3  2  3\n",
      "2  1  3  4\n",
      "3  4  4  4\n",
      "4  5  5  5\n",
      "\n",
      "   A  B  C  D\n",
      "0  2  1  5  1\n",
      "1  3  2  3  2\n",
      "2  1  3  4  3\n",
      "3  4  4  4  4\n",
      "4  5  5  5  5\n"
     ]
    }
   ],
   "source": [
    "import pandas as pd\n",
    "\n",
    "ak = pd.DataFrame({'A': [2,3,1],\n",
    "                   'B': [1,2,3],\n",
    "                   'C': [5,3,4]})\n",
    "\n",
    "ak1 = pd.DataFrame({'A': [4],\n",
    "                    'B': [4],\n",
    "                    'C': [4]})\n",
    "\n",
    "ak = pd.concat([ak, ak1])\n",
    "ak = ak.reset_index(drop=True)\n",
    "print(ak)\n",
    "\n",
    "ak.loc[ak.last_valid_index() + 1] = [5, 5, 5]\n",
    "print(f\"\\n{ak}\")\n",
    "\n",
    "ak2 = pd.DataFrame({'D': [1, 2, 3, 4, 5]})\n",
    "\n",
    "ak = pd.DataFrame.join(ak, ak2)\n",
    "print(f\"\\n{ak}\")"
   ]
  },
  {
   "cell_type": "markdown",
   "metadata": {},
   "source": [
    "## Távolítsunk el adatokat"
   ]
  },
  {
   "cell_type": "code",
   "execution_count": 19,
   "metadata": {},
   "outputs": [
    {
     "name": "stdout",
     "output_type": "stream",
     "text": [
      "   A  B  C\n",
      "0  2  1  5\n",
      "2  1  3  4\n",
      "\n",
      "   A  C\n",
      "0  2  5\n",
      "2  1  4\n"
     ]
    }
   ],
   "source": [
    "import pandas as pd\n",
    "\n",
    "ak = pd.DataFrame({'A': [2,3,1],\n",
    "                   'B': [1,2,3],\n",
    "                   'C': [5,3,4]})\n",
    "\n",
    "ak = ak.drop(ak.index[[1]])\n",
    "print(ak)\n",
    "\n",
    "ak = ak.drop(columns=['B'])\n",
    "print(f\"\\n{ak}\")"
   ]
  },
  {
   "cell_type": "markdown",
   "metadata": {},
   "source": [
    "## Rendezzük és keverjük össze az adatokat"
   ]
  },
  {
   "cell_type": "code",
   "execution_count": 20,
   "metadata": {},
   "outputs": [
    {
     "name": "stdout",
     "output_type": "stream",
     "text": [
      "   A  B  C\n",
      "0  1  2  3\n",
      "1  2  1  5\n",
      "2  2  3  4\n",
      "3  3  4  1\n",
      "4  3  5  1\n",
      "5  4  5  3\n",
      "6  5  2  2\n",
      "\n",
      "   A  B  C\n",
      "0  4  5  3\n",
      "1  3  5  1\n",
      "2  3  4  1\n",
      "3  2  3  4\n",
      "4  2  1  5\n",
      "5  1  2  3\n",
      "6  5  2  2\n"
     ]
    }
   ],
   "source": [
    "import pandas as pd\n",
    "import numpy as np\n",
    "\n",
    "ak = pd.DataFrame({'A': [2,1,2,3,3,5,4],\n",
    "                   'B': [1,2,3,5,4,2,5],\n",
    "                   'C': [5,3,4,1,1,2,3]})\n",
    "\n",
    "ak = ak.sort_values(by=['A', 'B'], ascending=[True, True])\n",
    "ak = ak.reset_index(drop=True)\n",
    "print(ak)\n",
    "\n",
    "index = ak.index.tolist()\n",
    "np.random.shuffle(index)\n",
    "ak = ak.loc[ak.index[index]]\n",
    "ak = ak.reset_index(drop=True)\n",
    "print(f\"\\n{ak}\")"
   ]
  },
  {
   "cell_type": "markdown",
   "metadata": {},
   "source": [
    "# Összesítsük az adatokat tetszőleges szinten"
   ]
  },
  {
   "cell_type": "code",
   "execution_count": 21,
   "metadata": {},
   "outputs": [
    {
     "name": "stdout",
     "output_type": "stream",
     "text": [
      "   Hozzárendelés  Értékek  Ö    Á   Sz\n",
      "0              0        1  6  2.0  1.0\n",
      "1              0        2  6  2.0  1.0\n",
      "2              0        3  6  2.0  1.0\n",
      "3              1        5  9  4.5  0.5\n",
      "4              1        4  9  4.5  0.5\n",
      "5              2        2  7  3.5  4.5\n",
      "6              2        5  7  3.5  4.5\n"
     ]
    }
   ],
   "source": [
    "import pandas as pd\n",
    "\n",
    "ak = pd.DataFrame({'Hozzárendelés': [0,0,0,1,1,2,2],\n",
    "                   'Értékek': [1,2,3,5,4,2,5]})\n",
    "\n",
    "ak['Ö'] = ak.groupby('Hozzárendelés')['Értékek'].transform(np.sum)\n",
    "ak['Á'] = ak.groupby('Hozzárendelés')['Értékek'].transform(np.mean)\n",
    "ak['Sz'] = ak.groupby('Hozzárendelés')['Értékek'].transform(np.var)\n",
    "\n",
    "print(ak)"
   ]
  },
  {
   "cell_type": "code",
   "execution_count": null,
   "metadata": {},
   "outputs": [],
   "source": []
  }
 ],
 "metadata": {
  "kernelspec": {
   "display_name": "Python 3 (ipykernel)",
   "language": "python",
   "name": "python3"
  },
  "language_info": {
   "codemirror_mode": {
    "name": "ipython",
    "version": 3
   },
   "file_extension": ".py",
   "mimetype": "text/x-python",
   "name": "python",
   "nbconvert_exporter": "python",
   "pygments_lexer": "ipython3",
   "version": "3.10.9"
  }
 },
 "nbformat": 4,
 "nbformat_minor": 2
}
