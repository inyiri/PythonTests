{
 "cells": [
  {
   "cell_type": "markdown",
   "id": "fc00a85a",
   "metadata": {
    "papermill": {
     "duration": 0.008716,
     "end_time": "2023-04-15T21:04:24.307852",
     "exception": false,
     "start_time": "2023-04-15T21:04:24.299136",
     "status": "completed"
    },
    "tags": []
   },
   "source": [
    "# Játsszunk a Scikit-learn könyvtárral"
   ]
  },
  {
   "cell_type": "markdown",
   "id": "2d305b05",
   "metadata": {
    "papermill": {
     "duration": 0.006787,
     "end_time": "2023-04-15T21:04:24.321816",
     "exception": false,
     "start_time": "2023-04-15T21:04:24.315029",
     "status": "completed"
    },
    "tags": []
   },
   "source": [
    "## Határozzuk meg az adattudományos alkalmazásokat"
   ]
  },
  {
   "cell_type": "markdown",
   "id": "1dd052ab",
   "metadata": {
    "papermill": {
     "duration": 0.006706,
     "end_time": "2023-04-15T21:04:24.335961",
     "exception": false,
     "start_time": "2023-04-15T21:04:24.329255",
     "status": "completed"
    },
    "tags": []
   },
   "source": [
    "http://scikit-learn.org/stable/developers/<BR>\n",
    "http://scikit-learn.org/stable/faq.html<BR>"
   ]
  },
  {
   "cell_type": "markdown",
   "id": "a1351448",
   "metadata": {
    "papermill": {
     "duration": 0.006672,
     "end_time": "2023-04-15T21:04:24.349647",
     "exception": false,
     "start_time": "2023-04-15T21:04:24.342975",
     "status": "completed"
    },
    "tags": []
   },
   "source": [
    "A California Housing adathalmaz egy népszerű adathalmaz, amely a Kalifornia állambeli házak mediánértékéről tartalmaz adatokat, valamint egyéb információkat a környékről. Az adathalmaz a StatLib adattárból származik, és gyakran használják viszonyítási alapként gépi tanulási feladatoknál. Az adatokat az Amerikai Népszámlálási Hivatal és más különböző források gyűjtötték össze az 1990-es kaliforniai népszámlálásból származó információk alapján. Az adathalmaz többek között olyan jellemzőket tartalmaz, mint a népesség, a mediánjövedelem, a házak mediánértéke, valamint földrajzi koordináták. Számos, ezt az adathalmazt használó gépi tanulási feladat célja a házak mediánértékének előrejelzése a rendelkezésre álló egyéb jellemzők alapján.\n",
    "\n",
    "A California Housing adathalmazban a célérték a házak mediánértéke az egyes tömbcsoportokban, amely 14 999 dollár és 500 001 dollár között mozog.\n",
    "\n",
    "* Az adatkészlet az 1990-es kaliforniai népszámlálásból származó 20 640 lakásárra vonatkozó megfigyelésből áll.\n",
    "* Nyolc bemeneti jellemzőt tartalmaz, köztük a szélességi és hosszúsági fokot, a mediánjövedelmet, valamint a szobák és a hálószobák számát, a népességet, a háztartások számát és a lakások mediánkorát minden egyes tömbcsoportra vonatkozóan.\n",
    "* A célváltozó az egyes tömbcsoportok házainak mediánértéke.\n",
    "* Az adatokon előfeldolgozást végeztek, mely során eltávolították a hiányzó értékeket, és úgy skálázták a célváltozót, hogy 0,1 és 5,0 közé essen.\n",
    "* Az adathalmazt általában gépi tanulási regressziós feladatokban használják, mivel jó lehetőséget nyújt a jellemzőtervezés és a regressziós modellezés gyakorlására."
   ]
  },
  {
   "cell_type": "code",
   "execution_count": 1,
   "id": "8e2fe423",
   "metadata": {
    "execution": {
     "iopub.execute_input": "2023-04-15T21:04:24.365436Z",
     "iopub.status.busy": "2023-04-15T21:04:24.364976Z",
     "iopub.status.idle": "2023-04-15T21:04:26.129077Z",
     "shell.execute_reply": "2023-04-15T21:04:26.127769Z"
    },
    "papermill": {
     "duration": 1.776304,
     "end_time": "2023-04-15T21:04:26.132872",
     "exception": false,
     "start_time": "2023-04-15T21:04:24.356568",
     "status": "completed"
    },
    "tags": []
   },
   "outputs": [
    {
     "name": "stdout",
     "output_type": "stream",
     "text": [
      "X:(20640, 8) y:(20640,)\n"
     ]
    }
   ],
   "source": [
    "import numpy as np\n",
    "import pandas as pd\n",
    "from sklearn.datasets import fetch_california_housing\n",
    "\n",
    "def kaliforniai_lakásadatok_betöltése():\n",
    "    adathalmaz = fetch_california_housing()\n",
    "    X = pd.DataFrame(data=adathalmaz.data,\n",
    "                     columns=adathalmaz.feature_names)\n",
    "    y = pd.Series(data=adathalmaz.target, name=\"cél\")\n",
    "    return X, y\n",
    "\n",
    "X, y = kaliforniai_lakásadatok_betöltése() \n",
    "print(f\"X:{X.shape} y:{y.shape}\")"
   ]
  },
  {
   "cell_type": "code",
   "execution_count": 2,
   "id": "680acceb",
   "metadata": {
    "execution": {
     "iopub.execute_input": "2023-04-15T21:04:26.150460Z",
     "iopub.status.busy": "2023-04-15T21:04:26.149266Z",
     "iopub.status.idle": "2023-04-15T21:04:26.165279Z",
     "shell.execute_reply": "2023-04-15T21:04:26.163793Z"
    },
    "papermill": {
     "duration": 0.028007,
     "end_time": "2023-04-15T21:04:26.168487",
     "exception": false,
     "start_time": "2023-04-15T21:04:26.140480",
     "status": "completed"
    },
    "tags": []
   },
   "outputs": [],
   "source": [
    "from sklearn.preprocessing import StandardScaler\n",
    "\n",
    "normalizáló = StandardScaler()\n",
    "normalizáló.fit(X)\n",
    "normalizált_X = normalizáló.transform(X)"
   ]
  },
  {
   "cell_type": "code",
   "execution_count": 3,
   "id": "e7423a4c",
   "metadata": {
    "execution": {
     "iopub.execute_input": "2023-04-15T21:04:26.185834Z",
     "iopub.status.busy": "2023-04-15T21:04:26.185001Z",
     "iopub.status.idle": "2023-04-15T21:04:26.360668Z",
     "shell.execute_reply": "2023-04-15T21:04:26.359201Z"
    },
    "papermill": {
     "duration": 0.189048,
     "end_time": "2023-04-15T21:04:26.364981",
     "exception": false,
     "start_time": "2023-04-15T21:04:26.175933",
     "status": "completed"
    },
    "tags": []
   },
   "outputs": [
    {
     "name": "stdout",
     "output_type": "stream",
     "text": [
      "[ 0.82962  0.11875 -0.26553  0.3057  -0.0045  -0.03933 -0.89989 -0.87054]\n"
     ]
    }
   ],
   "source": [
    "from sklearn.linear_model import LinearRegression\n",
    "\n",
    "lineáris_regresszió = LinearRegression()\n",
    "lineáris_regresszió.fit(normalizált_X, y)\n",
    "print(lineáris_regresszió.coef_.round(5))"
   ]
  },
  {
   "cell_type": "code",
   "execution_count": 4,
   "id": "3c121466",
   "metadata": {
    "execution": {
     "iopub.execute_input": "2023-04-15T21:04:26.484944Z",
     "iopub.status.busy": "2023-04-15T21:04:26.484369Z",
     "iopub.status.idle": "2023-04-15T21:04:26.506200Z",
     "shell.execute_reply": "2023-04-15T21:04:26.504468Z"
    },
    "papermill": {
     "duration": 0.040501,
     "end_time": "2023-04-15T21:04:26.510546",
     "exception": false,
     "start_time": "2023-04-15T21:04:26.470045",
     "status": "completed"
    },
    "tags": []
   },
   "outputs": [
    {
     "name": "stdout",
     "output_type": "stream",
     "text": [
      "A lakások becsült mediánértéke: 141088.56 USD\n"
     ]
    }
   ],
   "source": [
    "értékek = [[1.21315, 32., 3.31767135, 1.07731985, 898.,\n",
    "           2.1424809, 37.82, -122.27]]\n",
    "megf = pd.DataFrame(értékek, columns=X.columns)\n",
    "\n",
    "normalizált_megf = normalizáló.transform(megf)\n",
    "\n",
    "előrejel = lineáris_regresszió.predict(normalizált_megf)\n",
    "érték = előrejel[0] * 100_000\n",
    "print(f\"A lakások becsült mediánértéke: {érték:.2f} USD\")"
   ]
  },
  {
   "cell_type": "code",
   "execution_count": 5,
   "id": "899f40ee",
   "metadata": {},
   "outputs": [
    {
     "data": {
      "text/plain": [
       "0.606232685199805"
      ]
     },
     "execution_count": 5,
     "metadata": {},
     "output_type": "execute_result"
    }
   ],
   "source": [
    "lineáris_regresszió.score(normalizált_X, y)"
   ]
  },
  {
   "cell_type": "markdown",
   "id": "c43ee874",
   "metadata": {},
   "source": [
    "# Használjunk transzformáló függvényeket"
   ]
  },
  {
   "cell_type": "markdown",
   "id": "b734170d",
   "metadata": {},
   "source": [
    "## Kezeljünk heterogén adatokat"
   ]
  },
  {
   "cell_type": "code",
   "execution_count": 6,
   "id": "0ed6040b",
   "metadata": {
    "execution": {
     "iopub.execute_input": "2023-04-15T21:04:26.547482Z",
     "iopub.status.busy": "2023-04-15T21:04:26.547042Z",
     "iopub.status.idle": "2023-04-15T21:04:26.581979Z",
     "shell.execute_reply": "2023-04-15T21:04:26.580985Z"
    },
    "papermill": {
     "duration": 0.047052,
     "end_time": "2023-04-15T21:04:26.584753",
     "exception": false,
     "start_time": "2023-04-15T21:04:26.537701",
     "status": "completed"
    },
    "tags": []
   },
   "outputs": [],
   "source": [
    "from sklearn.compose \\\n",
    "    import ColumnTransformer, make_column_selector\n",
    "from sklearn.pipeline import FeatureUnion, Pipeline\n",
    "from sklearn.preprocessing \\\n",
    "    import StandardScaler, KBinsDiscretizer\n",
    "from sklearn.linear_model import LinearRegression\n",
    "\n",
    "X, y = kaliforniai_lakásadatok_betöltése()"
   ]
  },
  {
   "cell_type": "code",
   "execution_count": 7,
   "id": "003ed368",
   "metadata": {
    "execution": {
     "iopub.execute_input": "2023-04-15T21:04:26.602578Z",
     "iopub.status.busy": "2023-04-15T21:04:26.602108Z",
     "iopub.status.idle": "2023-04-15T21:04:26.608648Z",
     "shell.execute_reply": "2023-04-15T21:04:26.607419Z"
    },
    "papermill": {
     "duration": 0.018154,
     "end_time": "2023-04-15T21:04:26.610926",
     "exception": false,
     "start_time": "2023-04-15T21:04:26.592772",
     "status": "completed"
    },
    "tags": []
   },
   "outputs": [],
   "source": [
    "num_oszlopok = ['MedInc', 'HouseAge', 'AveRooms',\n",
    "            'AveBedrms', 'Population', 'AveOccup']\n",
    "koord = ['Latitude', 'Longitude']\n",
    "\n",
    "num_transzformáló = ColumnTransformer([\n",
    "    (\"normalizáló\", StandardScaler(), num_oszlopok)],\n",
    "     remainder=\"drop\")\n",
    "\n",
    "koord_transzformáló = ColumnTransformer([\n",
    "    (\"diszkretizáló\",\n",
    "     KBinsDiscretizer(n_bins=20, encode=\"onehot-dense\"),\n",
    "     koord)])"
   ]
  },
  {
   "cell_type": "code",
   "execution_count": 8,
   "id": "d2c1a44b",
   "metadata": {
    "execution": {
     "iopub.execute_input": "2023-04-15T21:04:26.629425Z",
     "iopub.status.busy": "2023-04-15T21:04:26.628955Z",
     "iopub.status.idle": "2023-04-15T21:04:26.634760Z",
     "shell.execute_reply": "2023-04-15T21:04:26.633425Z"
    },
    "papermill": {
     "duration": 0.018307,
     "end_time": "2023-04-15T21:04:26.637331",
     "exception": false,
     "start_time": "2023-04-15T21:04:26.619024",
     "status": "completed"
    },
    "tags": []
   },
   "outputs": [],
   "source": [
    "előfeldolgozó = FeatureUnion(\n",
    "    transformer_list=[(\"num_transzformáló\",\n",
    "                        num_transzformáló),\n",
    "                      (\"koord_transzformáló\",\n",
    "                        koord_transzformáló)])"
   ]
  },
  {
   "cell_type": "code",
   "execution_count": 9,
   "id": "8e9a0c41",
   "metadata": {
    "execution": {
     "iopub.execute_input": "2023-04-15T21:04:26.655745Z",
     "iopub.status.busy": "2023-04-15T21:04:26.655316Z",
     "iopub.status.idle": "2023-04-15T21:04:26.707778Z",
     "shell.execute_reply": "2023-04-15T21:04:26.706369Z"
    },
    "papermill": {
     "duration": 0.065112,
     "end_time": "2023-04-15T21:04:26.710581",
     "exception": false,
     "start_time": "2023-04-15T21:04:26.645469",
     "status": "completed"
    },
    "tags": []
   },
   "outputs": [
    {
     "data": {
      "text/plain": [
       "(20640, 46)"
      ]
     },
     "execution_count": 9,
     "metadata": {},
     "output_type": "execute_result"
    }
   ],
   "source": [
    "előfeldolgozó.fit_transform(X).shape"
   ]
  },
  {
   "cell_type": "code",
   "execution_count": 10,
   "id": "acc89dfd",
   "metadata": {
    "execution": {
     "iopub.execute_input": "2023-04-15T21:04:26.728934Z",
     "iopub.status.busy": "2023-04-15T21:04:26.728504Z",
     "iopub.status.idle": "2023-04-15T21:04:26.734422Z",
     "shell.execute_reply": "2023-04-15T21:04:26.733215Z"
    },
    "papermill": {
     "duration": 0.018568,
     "end_time": "2023-04-15T21:04:26.737413",
     "exception": false,
     "start_time": "2023-04-15T21:04:26.718845",
     "status": "completed"
    },
    "tags": []
   },
   "outputs": [],
   "source": [
    "előrejelzési_folyamat = Pipeline([\n",
    "    (\"előfeldolgozó\", előfeldolgozó),\n",
    "    (\"modell\", LinearRegression())])"
   ]
  },
  {
   "cell_type": "code",
   "execution_count": 11,
   "id": "58aac108",
   "metadata": {
    "execution": {
     "iopub.execute_input": "2023-04-15T21:04:26.756476Z",
     "iopub.status.busy": "2023-04-15T21:04:26.755579Z",
     "iopub.status.idle": "2023-04-15T21:04:26.886477Z",
     "shell.execute_reply": "2023-04-15T21:04:26.884973Z"
    },
    "papermill": {
     "duration": 0.144422,
     "end_time": "2023-04-15T21:04:26.890303",
     "exception": false,
     "start_time": "2023-04-15T21:04:26.745881",
     "status": "completed"
    },
    "tags": []
   },
   "outputs": [
    {
     "data": {
      "text/plain": [
       "0.666746241490374"
      ]
     },
     "execution_count": 11,
     "metadata": {},
     "output_type": "execute_result"
    }
   ],
   "source": [
    "előrejelzési_folyamat.fit(X, y)\n",
    "előrejelzési_folyamat.score(X, y)"
   ]
  },
  {
   "cell_type": "markdown",
   "id": "ec7a1e34",
   "metadata": {
    "papermill": {
     "duration": 0.013813,
     "end_time": "2023-04-15T21:04:26.917944",
     "exception": false,
     "start_time": "2023-04-15T21:04:26.904131",
     "status": "completed"
    },
    "tags": []
   },
   "source": [
    "# Foglalkozzunk az időméréssel és a teljesítménnyel"
   ]
  },
  {
   "cell_type": "markdown",
   "id": "547b1f83",
   "metadata": {
    "papermill": {
     "duration": 0.013184,
     "end_time": "2023-04-15T21:04:26.944802",
     "exception": false,
     "start_time": "2023-04-15T21:04:26.931618",
     "status": "completed"
    },
    "tags": []
   },
   "source": [
    "## Végezzünk teljesítményértékelést a timeit használatával"
   ]
  },
  {
   "cell_type": "code",
   "execution_count": 12,
   "id": "f8f4dd15",
   "metadata": {
    "execution": {
     "iopub.execute_input": "2023-04-15T21:04:26.977372Z",
     "iopub.status.busy": "2023-04-15T21:04:26.975555Z",
     "iopub.status.idle": "2023-04-15T21:04:33.210945Z",
     "shell.execute_reply": "2023-04-15T21:04:33.208634Z"
    },
    "papermill": {
     "duration": 6.254261,
     "end_time": "2023-04-15T21:04:33.213773",
     "exception": false,
     "start_time": "2023-04-15T21:04:26.959512",
     "status": "completed"
    },
    "tags": []
   },
   "outputs": [
    {
     "name": "stdout",
     "output_type": "stream",
     "text": [
      "44.5 ms ± 1.16 ms per loop (mean ± std. dev. of 7 runs, 10 loops each)\n"
     ]
    }
   ],
   "source": [
    "%timeit l = [k for k in range(10**6)]"
   ]
  },
  {
   "cell_type": "code",
   "execution_count": 13,
   "id": "b2bdb41c",
   "metadata": {
    "execution": {
     "iopub.execute_input": "2023-04-15T21:04:33.233741Z",
     "iopub.status.busy": "2023-04-15T21:04:33.232385Z",
     "iopub.status.idle": "2023-04-15T21:04:40.889477Z",
     "shell.execute_reply": "2023-04-15T21:04:40.887839Z"
    },
    "papermill": {
     "duration": 7.670247,
     "end_time": "2023-04-15T21:04:40.892745",
     "exception": false,
     "start_time": "2023-04-15T21:04:33.222498",
     "status": "completed"
    },
    "tags": []
   },
   "outputs": [
    {
     "name": "stdout",
     "output_type": "stream",
     "text": [
      "43.8 ms ± 1.65 ms per loop (mean ± std. dev. of 5 runs, 20 loops each)\n"
     ]
    }
   ],
   "source": [
    "%timeit -n 20 -r 5 l = [k for k in range(10**6)]"
   ]
  },
  {
   "cell_type": "code",
   "execution_count": 14,
   "id": "356010c2",
   "metadata": {
    "execution": {
     "iopub.execute_input": "2023-04-15T21:04:40.912935Z",
     "iopub.status.busy": "2023-04-15T21:04:40.911982Z",
     "iopub.status.idle": "2023-04-15T21:04:51.016549Z",
     "shell.execute_reply": "2023-04-15T21:04:51.015152Z"
    },
    "papermill": {
     "duration": 10.117803,
     "end_time": "2023-04-15T21:04:51.019542",
     "exception": false,
     "start_time": "2023-04-15T21:04:40.901739",
     "status": "completed"
    },
    "tags": []
   },
   "outputs": [
    {
     "name": "stdout",
     "output_type": "stream",
     "text": [
      "63.9 ms ± 1.51 ms per loop (mean ± std. dev. of 7 runs, 10 loops each)\n"
     ]
    }
   ],
   "source": [
    "%%timeit\n",
    "l = list()\n",
    "for k in range(10**6):\n",
    "    l.append(k)"
   ]
  },
  {
   "cell_type": "code",
   "execution_count": 15,
   "id": "c6a99acf",
   "metadata": {
    "execution": {
     "iopub.execute_input": "2023-04-15T21:04:51.039924Z",
     "iopub.status.busy": "2023-04-15T21:04:51.039497Z",
     "iopub.status.idle": "2023-04-15T21:04:51.051145Z",
     "shell.execute_reply": "2023-04-15T21:04:51.049603Z"
    },
    "papermill": {
     "duration": 0.025419,
     "end_time": "2023-04-15T21:04:51.053947",
     "exception": false,
     "start_time": "2023-04-15T21:04:51.028528",
     "status": "completed"
    },
    "tags": []
   },
   "outputs": [],
   "source": [
    "import sklearn.feature_extraction.text as szvg\n",
    "darabszám_vektorizáló = szvg.CountVectorizer(\n",
    "    binary=True, max_features=20)\n",
    "\n",
    "szövegek = [\"Python adattudományos célokra\",\n",
    "         \"Python gépi tanuláshoz\",\n",
    "         \"Mesterséges intelligencia a Pythonban\"]\n",
    "\n",
    "darabszám_vektorizáló.fit(szövegek)\n",
    "vektorizált = darabszám_vektorizáló.transform(szövegek)"
   ]
  },
  {
   "cell_type": "code",
   "execution_count": 16,
   "id": "86049505",
   "metadata": {
    "execution": {
     "iopub.execute_input": "2023-04-15T21:04:51.074925Z",
     "iopub.status.busy": "2023-04-15T21:04:51.074046Z",
     "iopub.status.idle": "2023-04-15T21:04:53.654789Z",
     "shell.execute_reply": "2023-04-15T21:04:53.653403Z"
    },
    "papermill": {
     "duration": 2.594193,
     "end_time": "2023-04-15T21:04:53.657576",
     "exception": false,
     "start_time": "2023-04-15T21:04:51.063383",
     "status": "completed"
    },
    "tags": []
   },
   "outputs": [
    {
     "name": "stdout",
     "output_type": "stream",
     "text": [
      "271 µs ± 8.18 µs per loop (mean ± std. dev. of 7 runs, 1,000 loops each)\n"
     ]
    }
   ],
   "source": [
    "%timeit darabszám_vektorizáló.fit(szövegek)"
   ]
  },
  {
   "cell_type": "code",
   "execution_count": 17,
   "id": "45690d9a",
   "metadata": {
    "execution": {
     "iopub.execute_input": "2023-04-15T21:04:53.677937Z",
     "iopub.status.busy": "2023-04-15T21:04:53.677496Z",
     "iopub.status.idle": "2023-04-15T21:05:01.294466Z",
     "shell.execute_reply": "2023-04-15T21:05:01.293505Z"
    },
    "papermill": {
     "duration": 7.630066,
     "end_time": "2023-04-15T21:05:01.296957",
     "exception": false,
     "start_time": "2023-04-15T21:04:53.666891",
     "status": "completed"
    },
    "tags": []
   },
   "outputs": [
    {
     "name": "stdout",
     "output_type": "stream",
     "text": [
      "57.6 µs ± 2.72 µs per loop (mean ± std. dev. of 7 runs, 10,000 loops each)\n"
     ]
    }
   ],
   "source": [
    "%timeit vektorizált = darabszám_vektorizáló.transform(szövegek)"
   ]
  },
  {
   "cell_type": "code",
   "execution_count": 18,
   "id": "c769207e",
   "metadata": {
    "execution": {
     "iopub.execute_input": "2023-04-15T21:05:01.317016Z",
     "iopub.status.busy": "2023-04-15T21:05:01.316606Z",
     "iopub.status.idle": "2023-04-15T21:05:02.282698Z",
     "shell.execute_reply": "2023-04-15T21:05:02.281104Z"
    },
    "papermill": {
     "duration": 0.97975,
     "end_time": "2023-04-15T21:05:02.285645",
     "exception": false,
     "start_time": "2023-04-15T21:05:01.305895",
     "status": "completed"
    },
    "tags": []
   },
   "outputs": [
    {
     "name": "stdout",
     "output_type": "stream",
     "text": [
      "5.7492120000097205e-05\n"
     ]
    }
   ],
   "source": [
    "import timeit\n",
    "\n",
    "összesített_idő = timeit.timeit(\n",
    "     \"vektorizált = darabszám_vektorizáló.transform(szövegek)\",\n",
    "     setup=\"from __main__ import darabszám_vektorizáló, szövegek\",\n",
    "     number=10000)\n",
    "print(összesített_idő / 10000.0)"
   ]
  },
  {
   "cell_type": "markdown",
   "id": "cd1efd7b",
   "metadata": {
    "papermill": {
     "duration": 0.009446,
     "end_time": "2023-04-15T21:05:02.304684",
     "exception": false,
     "start_time": "2023-04-15T21:05:02.295238",
     "status": "completed"
    },
    "tags": []
   },
   "source": [
    "## Használjuk a memóriaelemzőt"
   ]
  },
  {
   "cell_type": "code",
   "execution_count": 19,
   "id": "973c0ef7",
   "metadata": {
    "execution": {
     "iopub.execute_input": "2023-04-15T21:05:02.325800Z",
     "iopub.status.busy": "2023-04-15T21:05:02.325391Z",
     "iopub.status.idle": "2023-04-15T21:05:14.570819Z",
     "shell.execute_reply": "2023-04-15T21:05:14.569377Z"
    },
    "papermill": {
     "duration": 12.25925,
     "end_time": "2023-04-15T21:05:14.573799",
     "exception": false,
     "start_time": "2023-04-15T21:05:02.314549",
     "status": "completed"
    },
    "tags": []
   },
   "outputs": [
    {
     "name": "stdout",
     "output_type": "stream",
     "text": [
      "Collecting memory_profiler\n",
      "  Using cached memory_profiler-0.61.0-py3-none-any.whl (31 kB)\n",
      "Requirement already satisfied: psutil in c:\\users\\revon\\anaconda3\\lib\\site-packages (from memory_profiler) (5.9.0)\n",
      "Installing collected packages: memory_profiler\n",
      "Successfully installed memory_profiler-0.61.0\n"
     ]
    }
   ],
   "source": [
    "# Telepítési eljárások\n",
    "import sys\n",
    "!{sys.executable} -m pip install memory_profiler"
   ]
  },
  {
   "cell_type": "code",
   "execution_count": 20,
   "id": "00b2c0a1",
   "metadata": {
    "execution": {
     "iopub.execute_input": "2023-04-15T21:05:14.595307Z",
     "iopub.status.busy": "2023-04-15T21:05:14.594875Z",
     "iopub.status.idle": "2023-04-15T21:05:14.609331Z",
     "shell.execute_reply": "2023-04-15T21:05:14.607859Z"
    },
    "papermill": {
     "duration": 0.029189,
     "end_time": "2023-04-15T21:05:14.612557",
     "exception": false,
     "start_time": "2023-04-15T21:05:14.583368",
     "status": "completed"
    },
    "tags": []
   },
   "outputs": [],
   "source": [
    "# Inicializálás az IPythonból (hogy minden IPython-indításnál ismétlődjön)\n",
    "%load_ext memory_profiler"
   ]
  },
  {
   "cell_type": "code",
   "execution_count": 21,
   "id": "63adc969",
   "metadata": {
    "execution": {
     "iopub.execute_input": "2023-04-15T21:05:14.634110Z",
     "iopub.status.busy": "2023-04-15T21:05:14.633667Z",
     "iopub.status.idle": "2023-04-15T21:05:14.905624Z",
     "shell.execute_reply": "2023-04-15T21:05:14.904111Z"
    },
    "papermill": {
     "duration": 0.286116,
     "end_time": "2023-04-15T21:05:14.908574",
     "exception": false,
     "start_time": "2023-04-15T21:05:14.622458",
     "status": "completed"
    },
    "tags": []
   },
   "outputs": [
    {
     "name": "stdout",
     "output_type": "stream",
     "text": [
      "peak memory: 160.76 MiB, increment: 0.06 MiB\n"
     ]
    }
   ],
   "source": [
    "vektorizált = darabszám_vektorizáló.transform(szövegek)\n",
    "%memit tömör_kivonatolás = vektorizált.toarray()"
   ]
  },
  {
   "cell_type": "code",
   "execution_count": 22,
   "id": "5ff17584",
   "metadata": {
    "execution": {
     "iopub.execute_input": "2023-04-15T21:05:14.929915Z",
     "iopub.status.busy": "2023-04-15T21:05:14.929483Z",
     "iopub.status.idle": "2023-04-15T21:05:14.937863Z",
     "shell.execute_reply": "2023-04-15T21:05:14.936467Z"
    },
    "papermill": {
     "duration": 0.021974,
     "end_time": "2023-04-15T21:05:14.940263",
     "exception": false,
     "start_time": "2023-04-15T21:05:14.918289",
     "status": "completed"
    },
    "tags": []
   },
   "outputs": [
    {
     "name": "stdout",
     "output_type": "stream",
     "text": [
      "Overwriting példakód.py\n"
     ]
    }
   ],
   "source": [
    "%%writefile példakód.py\n",
    "\n",
    "import sklearn.feature_extraction.text as szvg\n",
    "\n",
    "def összehasonlító_teszt(szöveg):    \n",
    "    darabszám_vektorizáló = szvg.CountVectorizer(\n",
    "        binary=True, max_features=20)\n",
    "    darabszám_vektorizáló.fit(szöveg)\n",
    "    vektorizált = darabszám_vektorizáló.transform(szöveg)\n",
    "    return vektorizált.toarray()"
   ]
  },
  {
   "cell_type": "code",
   "execution_count": 23,
   "id": "a1938c7e",
   "metadata": {
    "execution": {
     "iopub.execute_input": "2023-04-15T21:05:14.961798Z",
     "iopub.status.busy": "2023-04-15T21:05:14.961068Z",
     "iopub.status.idle": "2023-04-15T21:05:15.076066Z",
     "shell.execute_reply": "2023-04-15T21:05:15.074810Z"
    },
    "papermill": {
     "duration": 0.12851,
     "end_time": "2023-04-15T21:05:15.078516",
     "exception": false,
     "start_time": "2023-04-15T21:05:14.950006",
     "status": "completed"
    },
    "tags": []
   },
   "outputs": [
    {
     "name": "stdout",
     "output_type": "stream",
     "text": [
      "\n"
     ]
    }
   ],
   "source": [
    "from példakód import összehasonlító_teszt\n",
    "\n",
    "szövegek = [\"Python adattudományos célokra\",\n",
    "         \"Python gépi tanuláshoz\",\n",
    "         \"Mesterséges intelligencia a Pythonban\"]\n",
    "\n",
    "%mprun -f összehasonlító_teszt összehasonlító_teszt(szövegek)"
   ]
  },
  {
   "cell_type": "markdown",
   "id": "d9e132cd",
   "metadata": {
    "papermill": {
     "duration": 0.009303,
     "end_time": "2023-04-15T21:05:15.097522",
     "exception": false,
     "start_time": "2023-04-15T21:05:15.088219",
     "status": "completed"
    },
    "tags": []
   },
   "source": [
    "# Futtassunk kódot párhuzamosan több magon"
   ]
  },
  {
   "cell_type": "markdown",
   "id": "7f38f260",
   "metadata": {
    "papermill": {
     "duration": 0.009235,
     "end_time": "2023-04-15T21:05:15.116393",
     "exception": false,
     "start_time": "2023-04-15T21:05:15.107158",
     "status": "completed"
    },
    "tags": []
   },
   "source": [
    "## Szemléltessük a párhuzamos feldolgozást"
   ]
  },
  {
   "cell_type": "code",
   "execution_count": 24,
   "id": "c2a7939b",
   "metadata": {
    "execution": {
     "iopub.execute_input": "2023-04-15T21:05:15.137406Z",
     "iopub.status.busy": "2023-04-15T21:05:15.136955Z",
     "iopub.status.idle": "2023-04-15T21:05:15.234740Z",
     "shell.execute_reply": "2023-04-15T21:05:15.233649Z"
    },
    "papermill": {
     "duration": 0.111553,
     "end_time": "2023-04-15T21:05:15.237601",
     "exception": false,
     "start_time": "2023-04-15T21:05:15.126048",
     "status": "completed"
    },
    "tags": []
   },
   "outputs": [],
   "source": [
    "from sklearn.datasets import load_digits\n",
    "számjegyek = load_digits()\n",
    "\n",
    "X, y = számjegyek.data, számjegyek.target\n",
    "from sklearn.svm import SVC\n",
    "from sklearn.model_selection import cross_val_score"
   ]
  },
  {
   "cell_type": "code",
   "execution_count": 25,
   "id": "5232b4b2",
   "metadata": {
    "execution": {
     "iopub.execute_input": "2023-04-15T21:05:15.259481Z",
     "iopub.status.busy": "2023-04-15T21:05:15.258521Z",
     "iopub.status.idle": "2023-04-15T21:05:26.579719Z",
     "shell.execute_reply": "2023-04-15T21:05:26.578213Z"
    },
    "papermill": {
     "duration": 11.335034,
     "end_time": "2023-04-15T21:05:26.582481",
     "exception": false,
     "start_time": "2023-04-15T21:05:15.247447",
     "status": "completed"
    },
    "tags": []
   },
   "outputs": [
    {
     "name": "stdout",
     "output_type": "stream",
     "text": [
      "893 ms ± 14 ms per loop (mean ± std. dev. of 7 runs, 1 loop each)\n"
     ]
    }
   ],
   "source": [
    "%timeit egy_mag = cross_val_score( \\\n",
    "    SVC(), X, y, cv=20, n_jobs=1)"
   ]
  },
  {
   "cell_type": "code",
   "execution_count": 26,
   "id": "0a4376b3",
   "metadata": {
    "execution": {
     "iopub.execute_input": "2023-04-15T21:05:26.604254Z",
     "iopub.status.busy": "2023-04-15T21:05:26.603839Z",
     "iopub.status.idle": "2023-04-15T21:05:32.759807Z",
     "shell.execute_reply": "2023-04-15T21:05:32.758444Z"
    },
    "papermill": {
     "duration": 6.169841,
     "end_time": "2023-04-15T21:05:32.762420",
     "exception": false,
     "start_time": "2023-04-15T21:05:26.592579",
     "status": "completed"
    },
    "tags": []
   },
   "outputs": [
    {
     "name": "stdout",
     "output_type": "stream",
     "text": [
      "248 ms ± 3.76 ms per loop (mean ± std. dev. of 7 runs, 1 loop each)\n"
     ]
    }
   ],
   "source": [
    "%timeit több_mag = cross_val_score( \\\n",
    "    SVC(),X, y, cv=20, n_jobs=-1)"
   ]
  },
  {
   "cell_type": "code",
   "execution_count": 27,
   "id": "f69d2881",
   "metadata": {
    "execution": {
     "iopub.execute_input": "2023-04-15T21:05:32.785317Z",
     "iopub.status.busy": "2023-04-15T21:05:32.784864Z",
     "iopub.status.idle": "2023-04-15T21:05:38.459260Z",
     "shell.execute_reply": "2023-04-15T21:05:38.458324Z"
    },
    "papermill": {
     "duration": 5.689883,
     "end_time": "2023-04-15T21:05:38.462547",
     "exception": false,
     "start_time": "2023-04-15T21:05:32.772664",
     "status": "completed"
    },
    "tags": []
   },
   "outputs": [
    {
     "name": "stdout",
     "output_type": "stream",
     "text": [
      "268 ms ± 14.1 ms per loop (mean ± std. dev. of 7 runs, 1 loop each)\n"
     ]
    }
   ],
   "source": [
    "%timeit több_mag = cross_val_score( \\\n",
    "    SVC(), X, y, cv=20, n_jobs=-2)"
   ]
  },
  {
   "cell_type": "code",
   "execution_count": null,
   "id": "4c7cd19b",
   "metadata": {},
   "outputs": [],
   "source": []
  }
 ],
 "metadata": {
  "kernelspec": {
   "display_name": "Python 3 (ipykernel)",
   "language": "python",
   "name": "python3"
  },
  "language_info": {
   "codemirror_mode": {
    "name": "ipython",
    "version": 3
   },
   "file_extension": ".py",
   "mimetype": "text/x-python",
   "name": "python",
   "nbconvert_exporter": "python",
   "pygments_lexer": "ipython3",
   "version": "3.10.9"
  },
  "papermill": {
   "default_parameters": {},
   "duration": 87.92785,
   "end_time": "2023-04-15T21:05:41.099579",
   "environment_variables": {},
   "exception": null,
   "input_path": "__notebook__.ipynb",
   "output_path": "__notebook__.ipynb",
   "parameters": {},
   "start_time": "2023-04-15T21:04:13.171729",
   "version": "2.4.0"
  }
 },
 "nbformat": 4,
 "nbformat_minor": 5
}
