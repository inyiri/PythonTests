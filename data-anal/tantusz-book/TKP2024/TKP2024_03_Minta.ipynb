{
 "cells": [
  {
   "cell_type": "markdown",
   "metadata": {},
   "source": [
    "# Használjuk az Anacondát"
   ]
  },
  {
   "cell_type": "markdown",
   "metadata": {},
   "source": [
    "## Használjuk a Jupyter Notebookot"
   ]
  },
  {
   "cell_type": "code",
   "execution_count": 1,
   "metadata": {},
   "outputs": [
    {
     "name": "stdout",
     "output_type": "stream",
     "text": [
      "Python-verzió:\n",
      " 3.10.9 | packaged by Anaconda, Inc. | (main, Mar  1 2023, 18:18:15) [MSC v.1916 64 bit (AMD64)]\n",
      "\n",
      "Anaconda-verzió:\n",
      " conda 23.3.1\n",
      "\n",
      "\n",
      "Jupyter Notebook-verzió:\n",
      " # packages in environment at C:\\Users\\revon\\anaconda3:\n",
      "#\n",
      "# Name                    Version                   Build  Channel\n",
      "notebook                  6.5.2           py310haa95532_0  \n",
      "\n"
     ]
    }
   ],
   "source": [
    "import sys\n",
    "print('Python-verzió:\\n', sys.version)\n",
    "\n",
    "import os\n",
    "result = os.popen('conda --version').read()\n",
    "print('\\nAnaconda-verzió:\\n', result)\n",
    "result = os.popen('conda list notebook$').read()\n",
    "print('\\nJupyter Notebook-verzió:\\n', result)"
   ]
  },
  {
   "cell_type": "markdown",
   "metadata": {},
   "source": [
    "# Töltsük le az adathalmazokat és a példakódokat"
   ]
  },
  {
   "cell_type": "markdown",
   "metadata": {},
   "source": [
    "## Határozzuk meg a kódtárat"
   ]
  },
  {
   "cell_type": "markdown",
   "metadata": {},
   "source": [
    "### Vegyünk fel tartalmat a jegyzetfüzetbe"
   ]
  },
  {
   "cell_type": "code",
   "execution_count": 2,
   "metadata": {},
   "outputs": [
    {
     "name": "stdout",
     "output_type": "stream",
     "text": [
      "A Python elég menő!\n"
     ]
    }
   ],
   "source": [
    "print('A Python elég menő!')"
   ]
  },
  {
   "cell_type": "code",
   "execution_count": null,
   "metadata": {},
   "outputs": [],
   "source": []
  }
 ],
 "metadata": {
  "kernelspec": {
   "display_name": "Python 3 (ipykernel)",
   "language": "python",
   "name": "python3"
  },
  "language_info": {
   "codemirror_mode": {
    "name": "ipython",
    "version": 3
   },
   "file_extension": ".py",
   "mimetype": "text/x-python",
   "name": "python",
   "nbconvert_exporter": "python",
   "pygments_lexer": "ipython3",
   "version": "3.10.9"
  }
 },
 "nbformat": 4,
 "nbformat_minor": 2
}
